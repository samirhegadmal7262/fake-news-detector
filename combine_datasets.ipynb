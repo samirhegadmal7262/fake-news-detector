{
 "cells": [
  {
   "cell_type": "code",
   "execution_count": 1,
   "id": "3da919d9",
   "metadata": {},
   "outputs": [
    {
     "name": "stdout",
     "output_type": "stream",
     "text": [
      "✅ Combined dataset saved to data/news.csv\n"
     ]
    }
   ],
   "source": [
    "import pandas as pd\n",
    "\n",
    "# Load fake and real news\n",
    "fake = pd.read_csv('../data/Fake.csv')\n",
    "real = pd.read_csv('../data/True.csv')\n",
    "\n",
    "# Add labels\n",
    "fake['label'] = 'FAKE'\n",
    "real['label'] = 'REAL'\n",
    "\n",
    "# Combine both\n",
    "df = pd.concat([fake, real], ignore_index=True)\n",
    "\n",
    "# Shuffle the dataset\n",
    "df = df.sample(frac=1).reset_index(drop=True)\n",
    "\n",
    "# Keep only relevant columns\n",
    "df = df[['title', 'text', 'label']]\n",
    "\n",
    "# Save to new CSV\n",
    "df.to_csv('../data/news.csv', index=False)\n",
    "\n",
    "print(\"✅ Combined dataset saved to data/news.csv\")\n"
   ]
  }
 ],
 "metadata": {
  "kernelspec": {
   "display_name": "Python 3",
   "language": "python",
   "name": "python3"
  },
  "language_info": {
   "codemirror_mode": {
    "name": "ipython",
    "version": 3
   },
   "file_extension": ".py",
   "mimetype": "text/x-python",
   "name": "python",
   "nbconvert_exporter": "python",
   "pygments_lexer": "ipython3",
   "version": "3.10.10"
  }
 },
 "nbformat": 4,
 "nbformat_minor": 5
}
